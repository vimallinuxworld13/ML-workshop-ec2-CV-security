{
 "cells": [
  {
   "cell_type": "code",
   "execution_count": 1,
   "id": "1e1c67db",
   "metadata": {},
   "outputs": [],
   "source": [
    "import cv2"
   ]
  },
  {
   "cell_type": "code",
   "execution_count": 2,
   "id": "abe9a910",
   "metadata": {},
   "outputs": [],
   "source": [
    "cap = cv2.VideoCapture(1)"
   ]
  },
  {
   "cell_type": "code",
   "execution_count": 3,
   "id": "363efea3",
   "metadata": {},
   "outputs": [],
   "source": [
    "ret , photo = cap.read()"
   ]
  },
  {
   "cell_type": "code",
   "execution_count": 4,
   "id": "35869532",
   "metadata": {},
   "outputs": [
    {
     "data": {
      "text/plain": [
       "True"
      ]
     },
     "execution_count": 4,
     "metadata": {},
     "output_type": "execute_result"
    }
   ],
   "source": [
    "ret"
   ]
  },
  {
   "cell_type": "code",
   "execution_count": 5,
   "id": "3107d55d",
   "metadata": {},
   "outputs": [
    {
     "data": {
      "text/plain": [
       "True"
      ]
     },
     "execution_count": 5,
     "metadata": {},
     "output_type": "execute_result"
    }
   ],
   "source": [
    "cv2.imwrite(\"vimal.png\", photo)"
   ]
  },
  {
   "cell_type": "code",
   "execution_count": 6,
   "id": "66548b6d",
   "metadata": {},
   "outputs": [],
   "source": [
    "cap.release()"
   ]
  },
  {
   "cell_type": "code",
   "execution_count": 10,
   "id": "c0e0646b",
   "metadata": {},
   "outputs": [],
   "source": [
    "vimalphoto = cv2.imread('vimal.jpg')"
   ]
  },
  {
   "cell_type": "code",
   "execution_count": 23,
   "id": "16c938f1",
   "metadata": {},
   "outputs": [
    {
     "data": {
      "text/plain": [
       "numpy.ndarray"
      ]
     },
     "execution_count": 23,
     "metadata": {},
     "output_type": "execute_result"
    }
   ],
   "source": [
    "type(vimalphoto)"
   ]
  },
  {
   "cell_type": "code",
   "execution_count": 24,
   "id": "7272dcc9",
   "metadata": {},
   "outputs": [
    {
     "data": {
      "text/plain": [
       "(3434, 1809, 3)"
      ]
     },
     "execution_count": 24,
     "metadata": {},
     "output_type": "execute_result"
    }
   ],
   "source": [
    "vimalphoto.shape"
   ]
  },
  {
   "cell_type": "code",
   "execution_count": 17,
   "id": "dc8ab577",
   "metadata": {},
   "outputs": [],
   "source": [
    "newphoto = vimalphoto[400:1200, 300:900]"
   ]
  },
  {
   "cell_type": "code",
   "execution_count": 22,
   "id": "42857184",
   "metadata": {},
   "outputs": [
    {
     "data": {
      "text/plain": [
       "True"
      ]
     },
     "execution_count": 22,
     "metadata": {},
     "output_type": "execute_result"
    }
   ],
   "source": [
    "cv2.imwrite(\"vimalnew.png\", newphoto)"
   ]
  },
  {
   "cell_type": "code",
   "execution_count": 21,
   "id": "7044ef5a",
   "metadata": {},
   "outputs": [],
   "source": [
    "newphoto[100:300] = [0,255,0]"
   ]
  },
  {
   "cell_type": "code",
   "execution_count": null,
   "id": "60e9498c",
   "metadata": {},
   "outputs": [],
   "source": [
    "newphoto"
   ]
  }
 ],
 "metadata": {
  "kernelspec": {
   "display_name": "Python 3 (ipykernel)",
   "language": "python",
   "name": "python3"
  },
  "language_info": {
   "codemirror_mode": {
    "name": "ipython",
    "version": 3
   },
   "file_extension": ".py",
   "mimetype": "text/x-python",
   "name": "python",
   "nbconvert_exporter": "python",
   "pygments_lexer": "ipython3",
   "version": "3.10.9"
  }
 },
 "nbformat": 4,
 "nbformat_minor": 5
}
