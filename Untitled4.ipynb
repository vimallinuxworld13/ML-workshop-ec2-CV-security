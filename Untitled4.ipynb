{
 "cells": [
  {
   "cell_type": "code",
   "execution_count": 13,
   "id": "6ab5c8fc",
   "metadata": {},
   "outputs": [],
   "source": [
    "import cv2\n",
    "import  urllib.request\n",
    "from cvzone.HandTrackingModule import HandDetector\n",
    "detector = HandDetector(maxHands=1 , detectionCon=0.8 )"
   ]
  },
  {
   "cell_type": "code",
   "execution_count": 2,
   "id": "8e4839e3",
   "metadata": {},
   "outputs": [],
   "source": []
  },
  {
   "cell_type": "code",
   "execution_count": 3,
   "id": "304e9ba9",
   "metadata": {},
   "outputs": [],
   "source": []
  },
  {
   "cell_type": "code",
   "execution_count": 4,
   "id": "5d9faca5",
   "metadata": {},
   "outputs": [],
   "source": [
    "cap = cv2.VideoCapture(1)"
   ]
  },
  {
   "cell_type": "code",
   "execution_count": 17,
   "id": "95a235ce",
   "metadata": {},
   "outputs": [
    {
     "name": "stdout",
     "output_type": "stream",
     "text": [
      "initial 2 finger\n",
      "b'{\"statusCode\": 200, \"body\": \"\\\\\"User UnLocked!\\\\\"\"}'\n",
      "all finger up\n",
      "b'{\"statusCode\": 200, \"body\": \"\\\\\"User Locked!\\\\\"\"}'\n",
      "all finger up\n",
      "b'{\"statusCode\": 200, \"body\": \"\\\\\"User Locked!\\\\\"\"}'\n",
      "initial 2 finger\n",
      "b'{\"statusCode\": 200, \"body\": \"\\\\\"User UnLocked!\\\\\"\"}'\n",
      "initial 2 finger\n",
      "b'{\"statusCode\": 200, \"body\": \"\\\\\"User UnLocked!\\\\\"\"}'\n",
      "middle 3 finger up\n"
     ]
    }
   ],
   "source": [
    "while True:\n",
    "    ret,  photo = cap.read()\n",
    "    hand = detector.findHands(photo , draw=False )\n",
    "    \n",
    "    if hand:\n",
    "        detectHand = hand[0]\n",
    "        if detectHand:\n",
    "            fingerup = detector.fingersUp(detectHand) \n",
    "            if fingerup == [0, 1, 1, 0, 0]:\n",
    "                print(\"initial 2 finger\")\n",
    "                # AI Model\n",
    "                request_url = urllib.request.urlopen('https://a803fpmwhb.execute-api.ap-south-1.amazonaws.com/test/unlock')\n",
    "                print ( request_url.read() )\n",
    "            \n",
    "            elif   fingerup == [0, 1, 1, 1, 0]:\n",
    "                print(\"middle 3 finger up\")\n",
    "                break\n",
    "            elif   fingerup == [1, 1, 1, 1, 1]:\n",
    "                print(\"all finger up\")\n",
    "                request_url = urllib.request.urlopen('https://a803fpmwhb.execute-api.ap-south-1.amazonaws.com/test/lock')\n",
    "                print ( request_url.read() )\n",
    "                \n",
    "                \n",
    "            \n",
    "    cv2.imshow(\"my photo\", photo)\n",
    "    if cv2.waitKey(10) == 13:\n",
    "        break\n",
    "        \n",
    "        \n",
    "cv2.destroyAllWindows()"
   ]
  },
  {
   "cell_type": "code",
   "execution_count": 18,
   "id": "0be2d12a",
   "metadata": {},
   "outputs": [],
   "source": [
    "cap.release()"
   ]
  },
  {
   "cell_type": "code",
   "execution_count": null,
   "id": "069223b4",
   "metadata": {},
   "outputs": [],
   "source": []
  }
 ],
 "metadata": {
  "kernelspec": {
   "display_name": "Python 3 (ipykernel)",
   "language": "python",
   "name": "python3"
  },
  "language_info": {
   "codemirror_mode": {
    "name": "ipython",
    "version": 3
   },
   "file_extension": ".py",
   "mimetype": "text/x-python",
   "name": "python",
   "nbconvert_exporter": "python",
   "pygments_lexer": "ipython3",
   "version": "3.10.9"
  }
 },
 "nbformat": 4,
 "nbformat_minor": 5
}
