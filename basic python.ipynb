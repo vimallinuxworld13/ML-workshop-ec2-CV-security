{
 "cells": [
  {
   "cell_type": "code",
   "execution_count": 1,
   "id": "caa268d2",
   "metadata": {},
   "outputs": [],
   "source": [
    "x=5"
   ]
  },
  {
   "cell_type": "code",
   "execution_count": 2,
   "id": "3c51d0df",
   "metadata": {},
   "outputs": [
    {
     "name": "stdout",
     "output_type": "stream",
     "text": [
      "5\n"
     ]
    }
   ],
   "source": [
    "print(x)"
   ]
  },
  {
   "cell_type": "code",
   "execution_count": 3,
   "id": "43ec2728",
   "metadata": {},
   "outputs": [
    {
     "data": {
      "text/plain": [
       "5"
      ]
     },
     "execution_count": 3,
     "metadata": {},
     "output_type": "execute_result"
    }
   ],
   "source": [
    "x"
   ]
  },
  {
   "cell_type": "code",
   "execution_count": 5,
   "id": "b1b68133",
   "metadata": {},
   "outputs": [
    {
     "name": "stdout",
     "output_type": "stream",
     "text": [
      "hello\n"
     ]
    }
   ],
   "source": [
    "print(\"hello\")"
   ]
  },
  {
   "cell_type": "code",
   "execution_count": 6,
   "id": "86126e68",
   "metadata": {},
   "outputs": [
    {
     "name": "stdout",
     "output_type": "stream",
     "text": [
      "date /t\n"
     ]
    }
   ],
   "source": [
    "print(\"date /t\")"
   ]
  },
  {
   "cell_type": "code",
   "execution_count": 7,
   "id": "51deeee8",
   "metadata": {},
   "outputs": [],
   "source": [
    "import subprocess"
   ]
  },
  {
   "cell_type": "code",
   "execution_count": 8,
   "id": "4bcacea8",
   "metadata": {},
   "outputs": [
    {
     "data": {
      "text/plain": [
       "'29-04-2023 '"
      ]
     },
     "execution_count": 8,
     "metadata": {},
     "output_type": "execute_result"
    }
   ],
   "source": [
    "# shift + tab\n",
    "subprocess.getoutput(\"date /t\")"
   ]
  },
  {
   "cell_type": "code",
   "execution_count": 9,
   "id": "4a2bffc7",
   "metadata": {},
   "outputs": [
    {
     "data": {
      "text/plain": [
       "''"
      ]
     },
     "execution_count": 9,
     "metadata": {},
     "output_type": "execute_result"
    }
   ],
   "source": [
    "subprocess.getoutput(\"chrome  http://www.google.com\")"
   ]
  },
  {
   "cell_type": "code",
   "execution_count": 10,
   "id": "3fb8b0d4",
   "metadata": {},
   "outputs": [],
   "source": [
    "y = 5"
   ]
  },
  {
   "cell_type": "code",
   "execution_count": 11,
   "id": "c5a75ed4",
   "metadata": {},
   "outputs": [
    {
     "data": {
      "text/plain": [
       "5"
      ]
     },
     "execution_count": 11,
     "metadata": {},
     "output_type": "execute_result"
    }
   ],
   "source": [
    "y"
   ]
  },
  {
   "cell_type": "code",
   "execution_count": 12,
   "id": "2b00db62",
   "metadata": {},
   "outputs": [],
   "source": [
    "y = 10"
   ]
  },
  {
   "cell_type": "code",
   "execution_count": 13,
   "id": "74b298ac",
   "metadata": {},
   "outputs": [
    {
     "data": {
      "text/plain": [
       "10"
      ]
     },
     "execution_count": 13,
     "metadata": {},
     "output_type": "execute_result"
    }
   ],
   "source": [
    "y"
   ]
  },
  {
   "cell_type": "code",
   "execution_count": 14,
   "id": "63a9e5c9",
   "metadata": {},
   "outputs": [],
   "source": [
    "z =  [ 1, 2 , 3, 4 ,5 ]"
   ]
  },
  {
   "cell_type": "code",
   "execution_count": 15,
   "id": "c0682d27",
   "metadata": {},
   "outputs": [
    {
     "data": {
      "text/plain": [
       "[1, 2, 3, 4, 5]"
      ]
     },
     "execution_count": 15,
     "metadata": {},
     "output_type": "execute_result"
    }
   ],
   "source": [
    "z"
   ]
  },
  {
   "cell_type": "code",
   "execution_count": 16,
   "id": "a9ddf683",
   "metadata": {},
   "outputs": [
    {
     "data": {
      "text/plain": [
       "5"
      ]
     },
     "execution_count": 16,
     "metadata": {},
     "output_type": "execute_result"
    }
   ],
   "source": [
    "z[4]"
   ]
  },
  {
   "cell_type": "code",
   "execution_count": 17,
   "id": "024357a2",
   "metadata": {},
   "outputs": [
    {
     "data": {
      "text/plain": [
       "[2, 3]"
      ]
     },
     "execution_count": 17,
     "metadata": {},
     "output_type": "execute_result"
    }
   ],
   "source": [
    "z[1:3]"
   ]
  },
  {
   "cell_type": "code",
   "execution_count": 18,
   "id": "9f529f2f",
   "metadata": {},
   "outputs": [
    {
     "data": {
      "text/plain": [
       "[2, 3, 4, 5]"
      ]
     },
     "execution_count": 18,
     "metadata": {},
     "output_type": "execute_result"
    }
   ],
   "source": [
    "z[1:]"
   ]
  },
  {
   "cell_type": "code",
   "execution_count": 19,
   "id": "daabc0f1",
   "metadata": {},
   "outputs": [
    {
     "data": {
      "text/plain": [
       "[1, 2, 3, 4, 5]"
      ]
     },
     "execution_count": 19,
     "metadata": {},
     "output_type": "execute_result"
    }
   ],
   "source": [
    "z"
   ]
  },
  {
   "cell_type": "code",
   "execution_count": 20,
   "id": "50120f1c",
   "metadata": {},
   "outputs": [
    {
     "data": {
      "text/plain": [
       "[1, 2, 3, 4]"
      ]
     },
     "execution_count": 20,
     "metadata": {},
     "output_type": "execute_result"
    }
   ],
   "source": [
    "z[:4]"
   ]
  },
  {
   "cell_type": "code",
   "execution_count": null,
   "id": "bbab2ae0",
   "metadata": {},
   "outputs": [],
   "source": []
  },
  {
   "cell_type": "code",
   "execution_count": null,
   "id": "8dc646ce",
   "metadata": {},
   "outputs": [],
   "source": []
  },
  {
   "cell_type": "code",
   "execution_count": 21,
   "id": "ac04c20a",
   "metadata": {},
   "outputs": [],
   "source": [
    "db =  [ \"vimal\", \"pop\", \"rahul\", \"tom\" ]"
   ]
  },
  {
   "cell_type": "code",
   "execution_count": 22,
   "id": "0936312e",
   "metadata": {},
   "outputs": [
    {
     "data": {
      "text/plain": [
       "['vimal', 'pop', 'rahul', 'tom']"
      ]
     },
     "execution_count": 22,
     "metadata": {},
     "output_type": "execute_result"
    }
   ],
   "source": [
    "db"
   ]
  },
  {
   "cell_type": "code",
   "execution_count": 1,
   "id": "1217235d",
   "metadata": {},
   "outputs": [],
   "source": [
    "db =  [  [\"vimal\", 1111, \"ok\"] , [\"pop\",2222, \"good\"] , [\"rahul\", 3333, \"good\"] , [\"tom\", 4444, \"vgood\"] ]"
   ]
  },
  {
   "cell_type": "code",
   "execution_count": 24,
   "id": "5e714953",
   "metadata": {},
   "outputs": [
    {
     "data": {
      "text/plain": [
       "[['vimal', 1111, 'ok'],\n",
       " ['pop', 2222, 'good'],\n",
       " ['rahul', 3333, 'good'],\n",
       " ['tom', 4444, 'vgood']]"
      ]
     },
     "execution_count": 24,
     "metadata": {},
     "output_type": "execute_result"
    }
   ],
   "source": [
    "db"
   ]
  },
  {
   "cell_type": "code",
   "execution_count": 25,
   "id": "1a918123",
   "metadata": {},
   "outputs": [
    {
     "data": {
      "text/plain": [
       "['rahul', 3333, 'good']"
      ]
     },
     "execution_count": 25,
     "metadata": {},
     "output_type": "execute_result"
    }
   ],
   "source": [
    "db[2]"
   ]
  },
  {
   "cell_type": "code",
   "execution_count": 27,
   "id": "1cb3c983",
   "metadata": {},
   "outputs": [
    {
     "data": {
      "text/plain": [
       "3333"
      ]
     },
     "execution_count": 27,
     "metadata": {},
     "output_type": "execute_result"
    }
   ],
   "source": [
    "db[2][1]"
   ]
  },
  {
   "cell_type": "code",
   "execution_count": 28,
   "id": "8a4c07f3",
   "metadata": {},
   "outputs": [
    {
     "data": {
      "text/plain": [
       "[['vimal', 1111, 'ok'],\n",
       " ['pop', 2222, 'good'],\n",
       " ['rahul', 3333, 'good'],\n",
       " ['tom', 4444, 'vgood']]"
      ]
     },
     "execution_count": 28,
     "metadata": {},
     "output_type": "execute_result"
    }
   ],
   "source": [
    "db"
   ]
  },
  {
   "cell_type": "code",
   "execution_count": 29,
   "id": "1e715c61",
   "metadata": {},
   "outputs": [
    {
     "data": {
      "text/plain": [
       "[['pop', 2222, 'good'], ['rahul', 3333, 'good'], ['tom', 4444, 'vgood']]"
      ]
     },
     "execution_count": 29,
     "metadata": {},
     "output_type": "execute_result"
    }
   ],
   "source": [
    "db[1:4]"
   ]
  },
  {
   "cell_type": "code",
   "execution_count": 30,
   "id": "87d4307d",
   "metadata": {},
   "outputs": [
    {
     "data": {
      "text/plain": [
       "['rahul', 3333, 'good']"
      ]
     },
     "execution_count": 30,
     "metadata": {},
     "output_type": "execute_result"
    }
   ],
   "source": [
    "db[1:][1]"
   ]
  },
  {
   "cell_type": "code",
   "execution_count": 31,
   "id": "ca3674f9",
   "metadata": {},
   "outputs": [
    {
     "name": "stdout",
     "output_type": "stream",
     "text": [
      "[1111, 2222, 3333, 4444]\n"
     ]
    }
   ],
   "source": [
    "numbers = [db[1] for db in db]\n",
    "print(numbers)\n"
   ]
  },
  {
   "cell_type": "code",
   "execution_count": 32,
   "id": "f3c1c704",
   "metadata": {},
   "outputs": [
    {
     "data": {
      "text/plain": [
       "[['vimal', 1111, 'ok'],\n",
       " ['pop', 2222, 'good'],\n",
       " ['rahul', 3333, 'good'],\n",
       " ['tom', 4444, 'vgood']]"
      ]
     },
     "execution_count": 32,
     "metadata": {},
     "output_type": "execute_result"
    }
   ],
   "source": [
    "db"
   ]
  },
  {
   "cell_type": "code",
   "execution_count": 2,
   "id": "0082d539",
   "metadata": {},
   "outputs": [],
   "source": [
    "import numpy"
   ]
  },
  {
   "cell_type": "code",
   "execution_count": 3,
   "id": "e6bcff6e",
   "metadata": {},
   "outputs": [],
   "source": [
    "a = numpy.array(db)"
   ]
  },
  {
   "cell_type": "code",
   "execution_count": 4,
   "id": "20a21f4e",
   "metadata": {},
   "outputs": [
    {
     "data": {
      "text/plain": [
       "list"
      ]
     },
     "execution_count": 4,
     "metadata": {},
     "output_type": "execute_result"
    }
   ],
   "source": [
    "type(db)"
   ]
  },
  {
   "cell_type": "code",
   "execution_count": 6,
   "id": "640ab55e",
   "metadata": {},
   "outputs": [
    {
     "data": {
      "text/plain": [
       "numpy.ndarray"
      ]
     },
     "execution_count": 6,
     "metadata": {},
     "output_type": "execute_result"
    }
   ],
   "source": [
    "type(a)"
   ]
  },
  {
   "cell_type": "code",
   "execution_count": 8,
   "id": "7ed39ede",
   "metadata": {},
   "outputs": [
    {
     "data": {
      "text/plain": [
       "(4, 3)"
      ]
     },
     "execution_count": 8,
     "metadata": {},
     "output_type": "execute_result"
    }
   ],
   "source": [
    "a.shape"
   ]
  },
  {
   "cell_type": "code",
   "execution_count": 37,
   "id": "947ff870",
   "metadata": {},
   "outputs": [
    {
     "data": {
      "text/plain": [
       "array([['vimal', '1111', 'ok'],\n",
       "       ['pop', '2222', 'good'],\n",
       "       ['rahul', '3333', 'good'],\n",
       "       ['tom', '4444', 'vgood']], dtype='<U11')"
      ]
     },
     "execution_count": 37,
     "metadata": {},
     "output_type": "execute_result"
    }
   ],
   "source": [
    "a"
   ]
  },
  {
   "cell_type": "code",
   "execution_count": 39,
   "id": "06dcb259",
   "metadata": {},
   "outputs": [
    {
     "data": {
      "text/plain": [
       "'3333'"
      ]
     },
     "execution_count": 39,
     "metadata": {},
     "output_type": "execute_result"
    }
   ],
   "source": [
    "a[2 ,  1 ]"
   ]
  },
  {
   "cell_type": "code",
   "execution_count": 45,
   "id": "b22cec3c",
   "metadata": {},
   "outputs": [
    {
     "data": {
      "text/plain": [
       "array([['1111', 'ok'],\n",
       "       ['2222', 'good'],\n",
       "       ['3333', 'good'],\n",
       "       ['4444', 'vgood']], dtype='<U11')"
      ]
     },
     "execution_count": 45,
     "metadata": {},
     "output_type": "execute_result"
    }
   ],
   "source": [
    "a[: , 1:3]"
   ]
  },
  {
   "cell_type": "code",
   "execution_count": 48,
   "id": "641dc54a",
   "metadata": {},
   "outputs": [
    {
     "data": {
      "text/plain": [
       "array([['2222', 'good'],\n",
       "       ['3333', 'good']], dtype='<U11')"
      ]
     },
     "execution_count": 48,
     "metadata": {},
     "output_type": "execute_result"
    }
   ],
   "source": [
    "a[1:3, 1:3 ]"
   ]
  },
  {
   "cell_type": "code",
   "execution_count": 49,
   "id": "72a81a2e",
   "metadata": {},
   "outputs": [
    {
     "data": {
      "text/plain": [
       "array([['vimal', '1111', 'ok'],\n",
       "       ['pop', '2222', 'good'],\n",
       "       ['rahul', '3333', 'good'],\n",
       "       ['tom', '4444', 'vgood']], dtype='<U11')"
      ]
     },
     "execution_count": 49,
     "metadata": {},
     "output_type": "execute_result"
    }
   ],
   "source": [
    "a"
   ]
  },
  {
   "cell_type": "code",
   "execution_count": 50,
   "id": "f175d82b",
   "metadata": {},
   "outputs": [
    {
     "name": "stdout",
     "output_type": "stream",
     "text": [
      "hi this is vimal\n"
     ]
    }
   ],
   "source": [
    "print(\"hi this is vimal\")"
   ]
  },
  {
   "cell_type": "code",
   "execution_count": 51,
   "id": "c8181b32",
   "metadata": {},
   "outputs": [],
   "source": [
    "n = \"tom\""
   ]
  },
  {
   "cell_type": "code",
   "execution_count": 52,
   "id": "a771e599",
   "metadata": {},
   "outputs": [
    {
     "name": "stdout",
     "output_type": "stream",
     "text": [
      "hi this is tom\n"
     ]
    }
   ],
   "source": [
    "print(\"hi this is {}\".format(n))"
   ]
  },
  {
   "cell_type": "code",
   "execution_count": 63,
   "id": "7b20c798",
   "metadata": {},
   "outputs": [],
   "source": [
    "def lw(n):\n",
    "    print(\"hi this is {}\".format(n))\n",
    "    print(\"bye\")"
   ]
  },
  {
   "cell_type": "code",
   "execution_count": 64,
   "id": "9035d982",
   "metadata": {},
   "outputs": [
    {
     "name": "stdout",
     "output_type": "stream",
     "text": [
      "hi this is linux\n",
      "bye\n"
     ]
    }
   ],
   "source": [
    "lw(\"linux\")"
   ]
  },
  {
   "cell_type": "code",
   "execution_count": 55,
   "id": "a5bb842e",
   "metadata": {},
   "outputs": [
    {
     "name": "stdout",
     "output_type": "stream",
     "text": [
      "hi this is vimal\n"
     ]
    }
   ],
   "source": [
    "lw()"
   ]
  },
  {
   "cell_type": "code",
   "execution_count": 58,
   "id": "96b7f2e8",
   "metadata": {},
   "outputs": [
    {
     "name": "stdout",
     "output_type": "stream",
     "text": [
      "hi this is tom\n"
     ]
    }
   ],
   "source": [
    "lw(\"tom\")"
   ]
  },
  {
   "cell_type": "code",
   "execution_count": 59,
   "id": "485e4f83",
   "metadata": {},
   "outputs": [
    {
     "name": "stdout",
     "output_type": "stream",
     "text": [
      "hi this is jack\n"
     ]
    }
   ],
   "source": [
    "lw(\"jack\")"
   ]
  },
  {
   "cell_type": "code",
   "execution_count": null,
   "id": "41d78f94",
   "metadata": {},
   "outputs": [],
   "source": []
  }
 ],
 "metadata": {
  "kernelspec": {
   "display_name": "Python 3 (ipykernel)",
   "language": "python",
   "name": "python3"
  },
  "language_info": {
   "codemirror_mode": {
    "name": "ipython",
    "version": 3
   },
   "file_extension": ".py",
   "mimetype": "text/x-python",
   "name": "python",
   "nbconvert_exporter": "python",
   "pygments_lexer": "ipython3",
   "version": "3.10.9"
  }
 },
 "nbformat": 4,
 "nbformat_minor": 5
}
