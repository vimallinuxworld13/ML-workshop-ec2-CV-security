{
 "cells": [
  {
   "cell_type": "code",
   "execution_count": 1,
   "id": "9997eac0",
   "metadata": {},
   "outputs": [],
   "source": [
    "import  urllib.request"
   ]
  },
  {
   "cell_type": "code",
   "execution_count": 2,
   "id": "227d773f",
   "metadata": {},
   "outputs": [
    {
     "name": "stdout",
     "output_type": "stream",
     "text": [
      "b'{\"statusCode\": 200, \"body\": \"\\\\\"User UnLocked!\\\\\"\"}'\n"
     ]
    }
   ],
   "source": [
    "\n",
    "# AI Model\n",
    "request_url = urllib.request.urlopen('https://a803fpmwhb.execute-api.ap-south-1.amazonaws.com/test/unlock')\n",
    "print ( request_url.read() )"
   ]
  },
  {
   "cell_type": "code",
   "execution_count": 2,
   "id": "f3f14401",
   "metadata": {},
   "outputs": [
    {
     "name": "stdout",
     "output_type": "stream",
     "text": [
      "0\n",
      "1\n",
      "2\n",
      "3\n",
      "4\n",
      "5\n",
      "6\n",
      "7\n",
      "8\n",
      "9\n",
      "10\n",
      "11\n",
      "12\n",
      "13\n",
      "14\n",
      "15\n",
      "16\n",
      "17\n",
      "18\n",
      "19\n"
     ]
    }
   ],
   "source": [
    "for i in range(20):\n",
    "    print(i)"
   ]
  },
  {
   "cell_type": "code",
   "execution_count": null,
   "id": "e0c94861",
   "metadata": {},
   "outputs": [],
   "source": []
  }
 ],
 "metadata": {
  "kernelspec": {
   "display_name": "Python 3 (ipykernel)",
   "language": "python",
   "name": "python3"
  },
  "language_info": {
   "codemirror_mode": {
    "name": "ipython",
    "version": 3
   },
   "file_extension": ".py",
   "mimetype": "text/x-python",
   "name": "python",
   "nbconvert_exporter": "python",
   "pygments_lexer": "ipython3",
   "version": "3.10.9"
  }
 },
 "nbformat": 4,
 "nbformat_minor": 5
}
