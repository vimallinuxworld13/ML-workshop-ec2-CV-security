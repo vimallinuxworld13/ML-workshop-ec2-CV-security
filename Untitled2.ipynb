{
 "cells": [
  {
   "cell_type": "code",
   "execution_count": 2,
   "id": "667e8cbc",
   "metadata": {},
   "outputs": [],
   "source": [
    "import cv2"
   ]
  },
  {
   "cell_type": "code",
   "execution_count": 3,
   "id": "f6a73a9a",
   "metadata": {},
   "outputs": [],
   "source": [
    "cap = cv2.VideoCapture(1)"
   ]
  },
  {
   "cell_type": "code",
   "execution_count": null,
   "id": "23fec5f0",
   "metadata": {},
   "outputs": [],
   "source": []
  },
  {
   "cell_type": "code",
   "execution_count": 27,
   "id": "d82fcdda",
   "metadata": {},
   "outputs": [],
   "source": [
    "while True:\n",
    "    ret,  photo = cap.read()\n",
    "    photo[0:150, 0:150]  = photo[100:250, 150:300]\n",
    "    #newphoto = photo[50:300, 100:400]\n",
    "    cv2.imshow(\"my photo\", photo)\n",
    "    if cv2.waitKey(10) == 13:\n",
    "        break\n",
    "\n",
    "\n",
    "\n",
    "    \n",
    "cv2.destroyAllWindows()\n",
    "    \n",
    "cap.release()"
   ]
  },
  {
   "cell_type": "code",
   "execution_count": 28,
   "id": "51b2c8ae",
   "metadata": {},
   "outputs": [],
   "source": [
    "a = [ 1,2,3,4]"
   ]
  },
  {
   "cell_type": "code",
   "execution_count": 29,
   "id": "3698315e",
   "metadata": {},
   "outputs": [],
   "source": [
    "cap.release()"
   ]
  },
  {
   "cell_type": "code",
   "execution_count": 12,
   "id": "1d72b705",
   "metadata": {},
   "outputs": [
    {
     "data": {
      "text/plain": [
       "[1, 2, 3, 4]"
      ]
     },
     "execution_count": 12,
     "metadata": {},
     "output_type": "execute_result"
    }
   ],
   "source": [
    "a"
   ]
  },
  {
   "cell_type": "code",
   "execution_count": 14,
   "id": "bd591dc8",
   "metadata": {},
   "outputs": [],
   "source": [
    "a[0:2] = [ 7, 8]"
   ]
  },
  {
   "cell_type": "code",
   "execution_count": 18,
   "id": "bea736d8",
   "metadata": {},
   "outputs": [
    {
     "ename": "AttributeError",
     "evalue": "'list' object has no attribute 'shape'",
     "output_type": "error",
     "traceback": [
      "\u001b[1;31m---------------------------------------------------------------------------\u001b[0m",
      "\u001b[1;31mAttributeError\u001b[0m                            Traceback (most recent call last)",
      "Cell \u001b[1;32mIn[18], line 1\u001b[0m\n\u001b[1;32m----> 1\u001b[0m \u001b[43ma\u001b[49m\u001b[38;5;241;43m.\u001b[39;49m\u001b[43mshape\u001b[49m\n",
      "\u001b[1;31mAttributeError\u001b[0m: 'list' object has no attribute 'shape'"
     ]
    }
   ],
   "source": [
    "a.shape"
   ]
  },
  {
   "cell_type": "code",
   "execution_count": 17,
   "id": "9872af8b",
   "metadata": {},
   "outputs": [
    {
     "data": {
      "text/plain": [
       "(480, 640, 3)"
      ]
     },
     "execution_count": 17,
     "metadata": {},
     "output_type": "execute_result"
    }
   ],
   "source": [
    "photo.shape"
   ]
  },
  {
   "cell_type": "code",
   "execution_count": 19,
   "id": "19df1c96",
   "metadata": {},
   "outputs": [],
   "source": [
    "photo[0:100, 0:100] = [0 , 255, 0]"
   ]
  },
  {
   "cell_type": "code",
   "execution_count": 23,
   "id": "82b49e82",
   "metadata": {},
   "outputs": [],
   "source": [
    "cv2.imshow(\"my photo\", photo[100:250, 150:300])\n",
    "cv2.waitKey()\n",
    "cv2.destroyAllWindows()"
   ]
  },
  {
   "cell_type": "code",
   "execution_count": 24,
   "id": "9562f4d2",
   "metadata": {},
   "outputs": [],
   "source": [
    "photo[0:150, 0:150]  = photo[100:250, 150:300]"
   ]
  },
  {
   "cell_type": "code",
   "execution_count": 25,
   "id": "0e0eaf50",
   "metadata": {},
   "outputs": [],
   "source": [
    "cv2.imshow(\"my photo\", photo)\n",
    "cv2.waitKey()\n",
    "cv2.destroyAllWindows()"
   ]
  },
  {
   "cell_type": "code",
   "execution_count": null,
   "id": "ce7f957e",
   "metadata": {},
   "outputs": [],
   "source": []
  }
 ],
 "metadata": {
  "kernelspec": {
   "display_name": "Python 3 (ipykernel)",
   "language": "python",
   "name": "python3"
  },
  "language_info": {
   "codemirror_mode": {
    "name": "ipython",
    "version": 3
   },
   "file_extension": ".py",
   "mimetype": "text/x-python",
   "name": "python",
   "nbconvert_exporter": "python",
   "pygments_lexer": "ipython3",
   "version": "3.10.9"
  }
 },
 "nbformat": 4,
 "nbformat_minor": 5
}
